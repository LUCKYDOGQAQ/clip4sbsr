{
 "cells": [
  {
   "cell_type": "code",
   "execution_count": 1,
   "metadata": {},
   "outputs": [
    {
     "name": "stdout",
     "output_type": "stream",
     "text": [
      "wandb sync ./wandb/offline-run-20240526_214458-mtuziabn\n",
      "wandb sync ./wandb/offline-run-20240527_010840-9qiogtmt\n",
      "wandb sync ./wandb/offline-run-20240527_041527-xrfr29hj\n",
      "wandb sync ./wandb/offline-run-20240527_075309-kwdurc07\n",
      "wandb sync ./wandb/offline-run-20240527_174824-lav9j1vk\n",
      "wandb sync ./wandb/offline-run-20240528_024526-gttx5u5b\n"
     ]
    }
   ],
   "source": [
    "# 1. 输入log路径名\n",
    "# log_path = '/lizhikai/logPersistence/f7ab6b29-f79c-4054-a8e1-2eb647076cfb/pytorch-f7ab6b29-tx2fx.txt'\n",
    "log_path = '/lizhikai/logPersistence/89a5ab61-dfc7-4be3-86cf-e7fe04d25578/pytorch-89a5ab61-bjh7j.txt'\n",
    "target_string = 'wandb sync'\n",
    "\n",
    "# 2. 提取其中的wanb init\n",
    "def extract_lines_with_string(log_path, target_string):\n",
    "    matching_lines = []\n",
    "    with open(log_path, 'r', encoding='utf-8') as file:\n",
    "        for line in file:\n",
    "            if target_string in line:\n",
    "                matching_lines.append(line.strip())\n",
    "    return matching_lines\n",
    "\n",
    "matching_lines = extract_lines_with_string(log_path, target_string)\n",
    "\n",
    "for line in matching_lines:\n",
    "    print(line.split(': ')[1])\n"
   ]
  }
 ],
 "metadata": {
  "kernelspec": {
   "display_name": "Python 3",
   "language": "python",
   "name": "python3"
  },
  "language_info": {
   "codemirror_mode": {
    "name": "ipython",
    "version": 3
   },
   "file_extension": ".py",
   "mimetype": "text/x-python",
   "name": "python",
   "nbconvert_exporter": "python",
   "pygments_lexer": "ipython3",
   "version": "3.10.14"
  }
 },
 "nbformat": 4,
 "nbformat_minor": 2
}
