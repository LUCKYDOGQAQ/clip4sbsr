{
 "cells": [
  {
   "cell_type": "code",
   "execution_count": 3,
   "metadata": {},
   "outputs": [
    {
     "name": "stdout",
     "output_type": "stream",
     "text": [
      " wandb sync ./wandb/offline-run-20240527_041605-a5pvxxbl\n",
      " wandb sync ./wandb/offline-run-20240527_054345-e1fc5soi\n",
      " wandb sync ./wandb/offline-run-20240527_071128-2sa7hb1x\n",
      " wandb sync ./wandb/offline-run-20240527_084520-5lps714v\n",
      " wandb sync ./wandb/offline-run-20240527_114545-gezj28bg\n",
      " wandb sync ./wandb/offline-run-20240527_144841-bpvg5hpt\n"
     ]
    }
   ],
   "source": [
    "# 1. 输入log路径名\n",
    "log_path = '/lizhikai/logPersistence/f7ab6b29-f79c-4054-a8e1-2eb647076cfb/pytorch-f7ab6b29-tx2fx.txt'\n",
    "target_string = 'wandb sync'\n",
    "\n",
    "# 2. 提取其中的wanb init\n",
    "def extract_lines_with_string(log_path, target_string):\n",
    "    matching_lines = []\n",
    "    with open(log_path, 'r', encoding='utf-8') as file:\n",
    "        for line in file:\n",
    "            if target_string in line:\n",
    "                matching_lines.append(line.strip())\n",
    "    return matching_lines\n",
    "\n",
    "matching_lines = extract_lines_with_string(log_path, target_string)\n",
    "\n",
    "for line in matching_lines:\n",
    "    print(line.split(': ')[1])\n"
   ]
  },
  {
   "cell_type": "code",
   "execution_count": null,
   "metadata": {},
   "outputs": [],
   "source": []
  }
 ],
 "metadata": {
  "kernelspec": {
   "display_name": "Python 3",
   "language": "python",
   "name": "python3"
  },
  "language_info": {
   "name": "python",
   "version": "3.10.14"
  }
 },
 "nbformat": 4,
 "nbformat_minor": 2
}
