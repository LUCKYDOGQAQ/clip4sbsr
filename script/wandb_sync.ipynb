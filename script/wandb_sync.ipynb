{
 "cells": [
  {
   "cell_type": "code",
   "execution_count": 7,
   "metadata": {},
   "outputs": [
    {
     "name": "stdout",
     "output_type": "stream",
     "text": [
      "wandb sync ./wandb/offline-run-20240528_125618-hjycvgs8\n",
      "wandb sync ./wandb/offline-run-20240528_140818-py0vtf7p\n",
      "wandb sync ./wandb/offline-run-20240528_152000-5n53yar9\n",
      "wandb sync ./wandb/offline-run-20240528_163558-xfa88f1l\n",
      "wandb sync ./wandb/offline-run-20240528_191953-uskk2iz6\n",
      "wandb sync ./wandb/offline-run-20240528_220213-dd8qafnc\n"
     ]
    }
   ],
   "source": [
    "# 1. 输入log路径名\n",
    "# log_path = '/lizhikai/logPersistence/f7ab6b29-f79c-4054-a8e1-2eb647076cfb/pytorch-f7ab6b29-tx2fx.txt'\n",
    "log_path = '/lizhikai/logPersistence/23d2e87a-97cf-4f9e-9166-385ec5e05cf0/pytorch-23d2e87a-xswfk.txt'\n",
    "target_string = 'wandb sync'\n",
    "\n",
    "# 2. 提取其中的wanb init\n",
    "def extract_lines_with_string(log_path, target_string):\n",
    "    matching_lines = []\n",
    "    with open(log_path, 'r', encoding='utf-8') as file:\n",
    "        for line in file:\n",
    "            if target_string in line:\n",
    "                matching_lines.append(line.strip())\n",
    "    return matching_lines\n",
    "\n",
    "matching_lines = extract_lines_with_string(log_path, target_string)\n",
    "\n",
    "for line in matching_lines:\n",
    "    print(line.split(': ')[1])\n"
   ]
  }
 ],
 "metadata": {
  "kernelspec": {
   "display_name": "Python 3",
   "language": "python",
   "name": "python3"
  },
  "language_info": {
   "codemirror_mode": {
    "name": "ipython",
    "version": 3
   },
   "file_extension": ".py",
   "mimetype": "text/x-python",
   "name": "python",
   "nbconvert_exporter": "python",
   "pygments_lexer": "ipython3",
   "version": "3.10.14"
  }
 },
 "nbformat": 4,
 "nbformat_minor": 2
}
